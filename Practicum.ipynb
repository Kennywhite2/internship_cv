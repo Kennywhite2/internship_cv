{
 "cells": [
  {
   "cell_type": "code",
   "execution_count": 1,
   "metadata": {},
   "outputs": [],
   "source": [
    "import torch\n",
    "import torch.nn as nn\n",
    "import torch.nn.functional as F\n",
    "import torch.utils.data as data\n",
    "import torchvision.transforms as transforms\n",
    "import torch.optim as optim\n",
    "from torch.utils.data import DataLoader, random_split\n",
    "## Torchvision\n",
    "import torchvision\n",
    "from torchvision.datasets import STL10\n",
    "from torchvision import transforms"
   ]
  },
  {
   "cell_type": "code",
   "execution_count": 12,
   "metadata": {},
   "outputs": [],
   "source": [
    "from torchvision.transforms import ToTensor\n",
    "from torchvision.datasets import MNIST\n",
    "\n",
    "transform = ToTensor()\n",
    "dataset = MNIST(root='./data', download=True, train=True, transform=transform)\n"
   ]
  },
  {
   "cell_type": "code",
   "execution_count": 13,
   "metadata": {},
   "outputs": [
    {
     "name": "stdout",
     "output_type": "stream",
     "text": [
      "dataset size: 60000\n"
     ]
    }
   ],
   "source": [
    "print(\"dataset size:\", len(dataset))\n"
   ]
  },
  {
   "cell_type": "code",
   "execution_count": 14,
   "metadata": {},
   "outputs": [
    {
     "name": "stdout",
     "output_type": "stream",
     "text": [
      "Train size: 36000\n",
      "Validation size: 12000\n",
      "Test size: 12000\n"
     ]
    }
   ],
   "source": [
    "dataset_size = len(dataset)\n",
    "train_size = int(0.6 * dataset_size)\n",
    "validation_size = int(0.2 * dataset_size)\n",
    "test_size = dataset_size - train_size - validation_size\n",
    "\n",
    "print(\"Train size:\", train_size)\n",
    "print(\"Validation size:\", validation_size)\n",
    "print(\"Test size:\", test_size)\n"
   ]
  },
  {
   "cell_type": "code",
   "execution_count": 15,
   "metadata": {},
   "outputs": [],
   "source": [
    "from torch.utils.data import random_split\n",
    "\n",
    "train_dataset, valid_dataset, test_dataset = random_split(dataset, [train_size, validation_size, test_size])\n"
   ]
  },
  {
   "cell_type": "code",
   "execution_count": 16,
   "metadata": {},
   "outputs": [],
   "source": [
    "# Set batch size\n",
    "batch_size = 64\n",
    "\n",
    "# Create DataLoader instances\n",
    "trainloader = DataLoader(train_dataset, batch_size=batch_size, shuffle=True)\n",
    "validloader = DataLoader(valid_dataset, batch_size=batch_size, shuffle=True)\n",
    "testloader = DataLoader(test_dataset, batch_size=batch_size, shuffle=False)\n"
   ]
  },
  {
   "cell_type": "code",
   "execution_count": 17,
   "metadata": {},
   "outputs": [],
   "source": [
    "import torch.nn as nn\n",
    "import torch.nn.functional as F\n",
    "\n",
    "class CustomMobileNet(nn.Module):\n",
    "    def __init__(self): \n",
    "        super(CustomMobileNet, self).__init__()\n",
    "        # Define layers \n",
    "        self.conv1 = nn.Conv2d(1, 10, kernel_size=5)  \n",
    "        self.conv2 = nn.Conv2d(10, 20, kernel_size=5)\n",
    "        self.fc1 = nn.Linear(320, 50)\n",
    "        self.fc2 = nn.Linear(50, 10)\n",
    "\n",
    "    def forward(self, x):\n",
    "        x = F.relu(F.max_pool2d(self.conv1(x), 2))\n",
    "        x = F.relu(F.max_pool2d(self.conv2(x), 2))\n",
    "        x = x.view(-1, 320)\n",
    "        x = F.relu(self.fc1(x))\n",
    "        x = self.fc2(x)\n",
    "        return F.log_softmax(x, dim=1)\n",
    "\n",
    "custom_model = CustomMobileNet()\n"
   ]
  },
  {
   "cell_type": "code",
   "execution_count": 18,
   "metadata": {},
   "outputs": [],
   "source": [
    "import torch.optim as optim\n",
    "import torch.nn as nn\n",
    "\n",
    "# Define optimizer and loss criterion\n",
    "custom_optimizer = optim.Adam(model.parameters(), lr=0.01)\n",
    "custom_criterion = nn.CrossEntropyLoss()\n"
   ]
  },
  {
   "cell_type": "code",
   "execution_count": 19,
   "metadata": {},
   "outputs": [
    {
     "name": "stdout",
     "output_type": "stream",
     "text": [
      "Epoch 1, Train Loss: 0.0679, Train Accuracy: 98.23%\n",
      "Epoch 2, Train Loss: 0.0526, Train Accuracy: 98.60%\n",
      "Epoch 3, Train Loss: 0.0498, Train Accuracy: 98.65%\n",
      "Epoch 4, Train Loss: 0.0453, Train Accuracy: 98.77%\n",
      "Epoch 5, Train Loss: 0.0487, Train Accuracy: 98.74%\n",
      "Epoch 6, Train Loss: 0.0536, Train Accuracy: 98.61%\n",
      "Epoch 7, Train Loss: 0.0436, Train Accuracy: 98.92%\n",
      "Epoch 8, Train Loss: 0.0520, Train Accuracy: 98.73%\n",
      "Epoch 9, Train Loss: 0.0442, Train Accuracy: 98.82%\n",
      "Epoch 10, Train Loss: 0.0401, Train Accuracy: 98.98%\n"
     ]
    }
   ],
   "source": [
    "import torch\n",
    "\n",
    "device = torch.device(\"cuda\" if torch.cuda.is_available() else \"cpu\")\n",
    "model.to(device)\n",
    "\n",
    "num_epochs = 10  \n",
    "\n",
    "for epoch in range(num_epochs):\n",
    "    \n",
    "    model.train()\n",
    "    total_loss = 0.0\n",
    "    correct_predictions = 0\n",
    "    total_samples = 0\n",
    "\n",
    "    for i, data in enumerate(trainloader, 0):\n",
    "        \n",
    "        inputs, labels = data[0].to(device), data[1].to(device)\n",
    "\n",
    "        optimizer.zero_grad()\n",
    "        outputs = model(inputs)\n",
    "        loss = criterion(outputs, labels)\n",
    "        loss.backward()\n",
    "        optimizer.step()\n",
    "\n",
    "        total_loss += loss.item()\n",
    "        _, predicted = torch.max(outputs.data, 1)\n",
    "        total_samples += labels.size(0)\n",
    "        correct_predictions += (predicted == labels).sum().item()\n",
    "\n",
    "    average_loss = total_loss / len(trainloader)\n",
    "    accuracy = 100 * correct_predictions / total_samples\n",
    "    print(f\"Epoch {epoch + 1}, Train Loss: {average_loss:.4f}, Train Accuracy: {accuracy:.2f}%\")\n"
   ]
  },
  {
   "cell_type": "code",
   "execution_count": 23,
   "metadata": {},
   "outputs": [
    {
     "name": "stdout",
     "output_type": "stream",
     "text": [
      "Epoch 10, Validation Loss: 0.1032, Validation Accuracy: 98.04%\n",
      "Finished Training\n"
     ]
    }
   ],
   "source": [
    "# Validation \n",
    "model.eval()  \n",
    "total_validation_loss = 0.0\n",
    "correct_predictions_val = 0\n",
    "total_samples_val = 0\n",
    "\n",
    "with torch.no_grad():  \n",
    "    for data in validloader:  \n",
    "        images, labels = data[0].to(device), data[1].to(device) \n",
    "        outputs = model(images)  \n",
    "        loss = criterion(outputs, labels)  \n",
    "\n",
    "        total_validation_loss += loss.item()  \n",
    "        _, predicted = torch.max(outputs.data, 1) \n",
    "        total_samples_val += labels.size(0)  \n",
    "        correct_predictions_val += (predicted == labels).sum().item() \n",
    "\n",
    "validation_loss = total_validation_loss / len(validloader)\n",
    "validation_accuracy = 100 * correct_predictions_val / total_samples_val\n",
    "\n",
    "print(f\"Epoch {epoch + 1}, Validation Loss: {validation_loss:.4f}, Validation Accuracy: {validation_accuracy:.2f}%\")\n",
    "\n",
    "print('Finished Training')\n"
   ]
  },
  {
   "cell_type": "code",
   "execution_count": 22,
   "metadata": {},
   "outputs": [
    {
     "name": "stdout",
     "output_type": "stream",
     "text": [
      "Test Loss: 0.0837, Test Accuracy: 98.24%\n"
     ]
    }
   ],
   "source": [
    "# Testing\n",
    "model.eval()  \n",
    "total_test_loss = 0.0\n",
    "correct_predictions_test = 0\n",
    "total_samples_test = 0\n",
    "\n",
    "with torch.no_grad():  \n",
    "    for data in testloader:  \n",
    "        images, labels = data[0].to(device), data[1].to(device) \n",
    "        outputs = model(images)  \n",
    "        loss = criterion(outputs, labels) \n",
    "\n",
    "        total_test_loss += loss.item()  \n",
    "        _, predicted = torch.max(outputs.data, 1)  \n",
    "        total_samples_test += labels.size(0) \n",
    "        correct_predictions_test += (predicted == labels).sum().item()  \n",
    "\n",
    "test_loss = total_test_loss / len(testloader)\n",
    "test_accuracy = 100 * correct_predictions_test / total_samples_test\n",
    "\n",
    "print(f\"Test Loss: {test_loss:.4f}, Test Accuracy: {test_accuracy:.2f}%\")\n"
   ]
  }
 ],
 "metadata": {
  "kernelspec": {
   "display_name": "Python 3",
   "language": "python",
   "name": "python3"
  },
  "language_info": {
   "codemirror_mode": {
    "name": "ipython",
    "version": 3
   },
   "file_extension": ".py",
   "mimetype": "text/x-python",
   "name": "python",
   "nbconvert_exporter": "python",
   "pygments_lexer": "ipython3",
   "version": "3.11.4"
  }
 },
 "nbformat": 4,
 "nbformat_minor": 2
}
